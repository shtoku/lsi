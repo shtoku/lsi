{
 "cells": [
  {
   "cell_type": "markdown",
   "metadata": {},
   "source": [
    "# PSからPLを制御するためのプログラム"
   ]
  },
  {
   "cell_type": "markdown",
   "metadata": {},
   "source": [
    "## import"
   ]
  },
  {
   "cell_type": "code",
   "execution_count": 5,
   "metadata": {},
   "outputs": [],
   "source": [
    "import numpy as np\n",
    "from time import sleep\n",
    "from pynq import PL, Overlay, MMIO, allocate"
   ]
  },
  {
   "cell_type": "markdown",
   "metadata": {},
   "source": [
    "## PL制御クラス"
   ]
  },
  {
   "cell_type": "code",
   "execution_count": 88,
   "metadata": {},
   "outputs": [],
   "source": [
    "class Kmj_Gen:\n",
    "  def __init__(self, bitfile, N=10):\n",
    "    PL.reset()\n",
    "\n",
    "    ol = Overlay(bitfile)\n",
    "\n",
    "    dma = ol.axi_dma_0\n",
    "    self.dma_send = dma.sendchannel\n",
    "    self.dma_recv = dma.recvchannel\n",
    "\n",
    "    self.top_mmio = MMIO(ol.ip_dict['top_0']['phys_addr'], ol.ip_dict['top_0']['addr_range'])\n",
    "    # slv_reg0[2:0] : {set, run, rst_n}\n",
    "    self.top_mmio.write(0*4, 0b000)\n",
    "    \n",
    "    self.input_buffer  = allocate(shape=(N,), dtype=np.uint8)\n",
    "    self.output_buffer = allocate(shape=(N,), dtype=np.uint8)\n",
    "  \n",
    "  def send_data(self, data):\n",
    "    for i in range(len(self.input_buffer)):\n",
    "      self.input_buffer[i] = data[i]\n",
    "    \n",
    "    self.dma_send.transfer(self.input_buffer)\n",
    "    while not self.dma_send.idle:\n",
    "      sleep(0.001)\n",
    "  \n",
    "  def recv_data(self):\n",
    "    self.dma_recv.transfer(self.output_buffer)\n",
    "    while not self.dma_recv.idle:\n",
    "      sleep(0.001)\n",
    "    return self.output_buffer\n",
    "  \n",
    "  def run_mode(self, mode=0):\n",
    "    # slv_reg1[1:0] : mode\n",
    "    self.top_mmio.write(1*4, mode)\n",
    "\n",
    "    # slv_reg0[2:0] : {set, run, rst_n}\n",
    "    self.top_mmio.write(0*4, 0b101)\n",
    "\n",
    "    # slv_reg0[2:0] : {set, run, rst_n}\n",
    "    self.top_mmio.write(0*4, 0b011)\n",
    "\n",
    "    # slv_reg2[0] : finish\n",
    "    while self.top_mmio.read(2*4) != 1:\n",
    "      sleep(0.001)\n"
   ]
  },
  {
   "cell_type": "markdown",
   "metadata": {},
   "source": [
    "## 関数"
   ]
  },
  {
   "cell_type": "code",
   "execution_count": 89,
   "metadata": {},
   "outputs": [],
   "source": [
    "# 使用できる文字のリストを読み込み\n",
    "char_list = []\n",
    "with open('char_list.txt' , 'r', encoding='utf-8') as file:\n",
    "  for line in file:\n",
    "    char_list.append(line.replace('\\n', ''))\n",
    "\n",
    "\n",
    "# 文字リストの番号を顔文字中の番号を対応付け\n",
    "def convert_str_int(kmj_data, N=10):\n",
    "  kmj_index = []\n",
    "  for kmj in kmj_data:\n",
    "    kmj = list(kmj)\n",
    "    kmj += ['<PAD>' for _ in range(N - len(kmj))]\n",
    "    temp = []\n",
    "    for c in kmj:\n",
    "      try:\n",
    "        temp.append(char_list.index(c))\n",
    "      except:\n",
    "        temp.append(char_list.index('<UNK>'))\n",
    "    kmj_index.append(temp)\n",
    "  \n",
    "  return kmj_index\n",
    "\n",
    "\n",
    "# 整数列を文字列に変換\n",
    "def convert_int_str(x):\n",
    "  x = np.array(char_list)[x]\n",
    "  x = [c for c in x if c not in ['<PAD>', '<UNK>']]\n",
    "\n",
    "  return ''.join(x)"
   ]
  },
  {
   "cell_type": "markdown",
   "metadata": {},
   "source": [
    "## 動作検証"
   ]
  },
  {
   "cell_type": "code",
   "execution_count": 154,
   "metadata": {},
   "outputs": [],
   "source": [
    "# PL制御クラスのインスタンス\n",
    "pl = Kmj_Gen('kmj_gen_v2_2_100MHz.bit')"
   ]
  },
  {
   "cell_type": "code",
   "execution_count": 155,
   "metadata": {},
   "outputs": [],
   "source": [
    "# 顔文字を整数に変換\n",
    "# kmj_data = ['(>_<)']\n",
    "kmj_data = ['ヾ(*　∀́　*)ノ']\n",
    "kmj_index = convert_str_int(kmj_data)"
   ]
  },
  {
   "cell_type": "code",
   "execution_count": 156,
   "metadata": {},
   "outputs": [],
   "source": [
    "# データを送信\n",
    "pl.send_data(kmj_index[0])"
   ]
  },
  {
   "cell_type": "code",
   "execution_count": 157,
   "metadata": {},
   "outputs": [],
   "source": [
    "# モードを決めて実行\n",
    "# FORWARD:0, GEN_SIMI:2, GEN_NEW:3\n",
    "pl.run_mode(mode=2)"
   ]
  },
  {
   "cell_type": "code",
   "execution_count": 158,
   "metadata": {},
   "outputs": [
    {
     "name": "stdout",
     "output_type": "stream",
     "text": [
      "ヾ(*　∀́　*)ノ\n",
      "ヾ(*　ώ　*)ノ\n"
     ]
    }
   ],
   "source": [
    "# データを受信\n",
    "output = pl.recv_data()\n",
    "print(kmj_data[0])\n",
    "print(convert_int_str(output))"
   ]
  },
  {
   "cell_type": "code",
   "execution_count": 159,
   "metadata": {},
   "outputs": [
    {
     "name": "stdout",
     "output_type": "stream",
     "text": [
      "ヾ(*　∀́　*)ノ\n",
      "ヾ(*　Д́　*)ノ\n",
      "ヾ(`　ώ　*)ノ\n",
      "ヾ(*　ώ　*)ノ\n",
      "!(*　ώ　*)o\n",
      "ヾ(*　∀́　*)ノ\n",
      "\\(*　Д́≧*)ノ\n",
      "ヾ(*　∀́　*)ヽ\n",
      "~(*　ώ　*)ノ\n",
      "ヾ(*　Д́　`)ヽ\n",
      "ヾ(*≧Д́　;ヾヽ\n",
      "ヾ(*　ώ　*)ノ\n",
      "\\(*　ώ　*)ノ\n",
      "ヾ(*　ώ　;)ノ\n",
      "ヾ(*　Д́　*)ヽ\n",
      "ヾ(*　Д́　*)ノ\n",
      "((*　Д́　*)ノ\n",
      "ヾ(*　Д́　*)ノ\n",
      "ヾ(*　ώ　*)ヽ\n",
      "ヾ(*　ώ　*)ノ\n",
      "\\(*　Д́　*)ノ\n",
      "ヾ(*　ώ　;)ノ\n",
      "ヾ(*　Д́　;)ノ\n",
      "ヾ(*≧Д́　;)ノ\n",
      "ヾ(`　ώ　*)ノ\n",
      "\\(*　Д́　*)ノ\n",
      "ヾ(*　ώ　;)ノ\n",
      "\\(*　Д́　;)ノ\n",
      "((`　∀́　`)ノ\n",
      "\\(*　Д́　*)ノ\n",
      "ヾ(*　ώ　*)ノ\n",
      "ヾ(*　ώ　*)ノ\n",
      "ヾ(*　Д́　*)ノ\n",
      "\\(*　Д'　;)ノ\n",
      "\\o`　Д́　;)ノ\n",
      "!(*　ώ　*)ノ\n",
      "ヾ(*≧Д́　*)ノ\n",
      "ゞ(*　ώ　*)ノ\n",
      "\\(*≧Д́　;)ノ\n",
      "ヾ(*　Д́　*)ノ\n",
      "ヾ(*　∀́　;)ヽ\n",
      "ヾ(*　Д́　*)ノ\n",
      "ヾ(*　Д́　`)ヽ\n",
      "\\(́　Д́　*)ノ\n",
      "ヾ(*　Д́　*)ヽ\n",
      "\\(*　Д́　*)ノ\n",
      "ヾ(*　Д́　;)ノ\n",
      "ゞ(*　Д́　*)ノ\n",
      "ヾ(*　Д́　*)ノ\n",
      "ヾ(*　Д́　*)ヽ\n",
      "ヾ(*　Д́　*)ヽ\n",
      "((*≧Д́　*)ノ\n",
      "ヾ(*　Д́　*)ノ\n",
      "ヾ(*　ώ　*)ノ\n",
      "ヾ(*　ώ　;)ノ\n",
      "ヾ(*　Д́　*)ノ\n",
      "\\(≧　ώ　;)ノ\n",
      "ヾ(*　Д́　;)ノ\n",
      "ヾ(*≧ώ　*)ノ\n",
      "ヾ(*　Д́　*)ノ\n",
      "ヾ(*　Д́　;)ヽ\n",
      "ヾ(*　ώ　*)ノ\n",
      "ヾ(*　Д́　*)ヽ\n",
      "ヾ(*　Д́　;)ノ\n",
      "\\(*　Д́　`)ノ\n",
      "\\(*　Д́　;)ノ\n",
      "ヾ(*　Д́　;)ノ\n",
      "ヾ(*　Д́　*)ノ\n",
      "ヾ(*　д́　;)ノ\n",
      "~(*　ώ　*)ノ\n",
      "ヾ(*　Д́　;)ノ\n",
      "ヽ(*　Д́≧*)ノ\n",
      "♪(*　ώ　`)ノ\n",
      "\\(*　Д́　;)ノ\n",
      "ヾ(*　ώ　*)ノ\n",
      "ヾ(*　Д́　;)ノ\n",
      "ヾ(́　ώ　*)ノ\n",
      "ヾ(*　ώ　;)ノ\n",
      "ヾ(*　Д́　*)ヽ\n",
      "ヾ(*　Д́　;)ノ\n",
      "\\(*　Д́　*)ヽ\n",
      "ヾ(*　ώ　*)ノ\n",
      "ヾ(*　Д́　*)ヽ\n",
      "ヾ(*　Д́　*)ヽ\n",
      "ヾ(*　Д́　*)ノ\n",
      "♪(*≧д́　*)ノ\n",
      "ヾ(*　Д́　*)ノ\n",
      "ヾ(*　ώ≧`)ノ\n",
      "ヾ(*　□́≧*)ヽ\n",
      "ヾ(*　∀́　*)ノ\n",
      "ヾ(*　∀́　*)ノ\n",
      "!(*　ώ　*)ノ\n",
      "ヾ(。　ώ　*)ノ\n",
      "ヽ**　Д́　*)ノ\n",
      "ヾ(*　Д́　*)ヽ\n",
      "ヾ(*　ώ　*)ノ\n",
      "ヾ(`　Д́　*)ノ\n",
      "♪(*　∀́≧*)ノ\n",
      "~(*　ώ　;)ヽ\n",
      "\\(*　Д́　*)ノ\n",
      "♪(*　ώД*)ノ\n"
     ]
    }
   ],
   "source": [
    "print(kmj_data[0])\n",
    "for _ in range(100):\n",
    "    # データを送信 (GEN_NEWのときはコメントアウト)\n",
    "    pl.send_data(kmj_index[0])\n",
    "    \n",
    "    # モードを決めて実行\n",
    "    # FORWARD:0, GEN_SIMI:2, GEN_NEW:3\n",
    "    pl.run_mode(mode=2)\n",
    "    \n",
    "    # データを受信\n",
    "    output = pl.recv_data()\n",
    "    print(convert_int_str(output))"
   ]
  },
  {
   "cell_type": "code",
   "execution_count": null,
   "metadata": {},
   "outputs": [],
   "source": []
  }
 ],
 "metadata": {
  "kernelspec": {
   "display_name": "Python 3 (ipykernel)",
   "language": "python",
   "name": "python3"
  },
  "language_info": {
   "codemirror_mode": {
    "name": "ipython",
    "version": 3
   },
   "file_extension": ".py",
   "mimetype": "text/x-python",
   "name": "python",
   "nbconvert_exporter": "python",
   "pygments_lexer": "ipython3",
   "version": "3.10.4"
  }
 },
 "nbformat": 4,
 "nbformat_minor": 2
}
