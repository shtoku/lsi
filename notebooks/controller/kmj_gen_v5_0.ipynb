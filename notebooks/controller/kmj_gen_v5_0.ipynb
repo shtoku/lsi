{
 "cells": [
  {
   "cell_type": "markdown",
   "metadata": {},
   "source": [
    "# PSからPLを制御するためのプログラム"
   ]
  },
  {
   "cell_type": "markdown",
   "metadata": {},
   "source": [
    "## import"
   ]
  },
  {
   "cell_type": "code",
   "execution_count": 1,
   "metadata": {},
   "outputs": [],
   "source": [
    "import numpy as np\n",
    "from time import sleep, time\n",
    "from pynq import PL, Overlay, MMIO, allocate"
   ]
  },
  {
   "cell_type": "code",
   "execution_count": 2,
   "metadata": {},
   "outputs": [],
   "source": [
    "N = 10\n",
    "batch_size = 32"
   ]
  },
  {
   "cell_type": "markdown",
   "metadata": {},
   "source": [
    "## PL制御クラス"
   ]
  },
  {
   "cell_type": "code",
   "execution_count": 3,
   "metadata": {},
   "outputs": [],
   "source": [
    "class Controller:\n",
    "  def __init__(self, bitfile, batch_size, N):\n",
    "    PL.reset()\n",
    "\n",
    "    ol = Overlay(bitfile)\n",
    "\n",
    "    dma = ol.axi_dma_0\n",
    "    self.dma_send = dma.sendchannel\n",
    "    self.dma_recv = dma.recvchannel\n",
    "\n",
    "    self.top_mmio = MMIO(ol.ip_dict['top_0']['phys_addr'], ol.ip_dict['top_0']['addr_range'])\n",
    "    # slv_reg0[2:0] : {next, run, rst_n}\n",
    "    self.top_mmio.write(0*4, 0b0000)\n",
    "    \n",
    "    self.input_buffer  = allocate(shape=(batch_size, N), dtype=np.uint8)\n",
    "    self.output_buffer = allocate(shape=(batch_size, N), dtype=np.uint8)\n",
    "  \n",
    "  def send_data(self, data):\n",
    "#     while not self.dma_send.idle:\n",
    "#       sleep(0.001)\n",
    "    self.input_buffer[:] = data\n",
    "    \n",
    "    self.dma_send.transfer(self.input_buffer)\n",
    "  \n",
    "  def recv_data(self):\n",
    "#     while not self.dma_recv.idle:\n",
    "#       sleep(0.001)\n",
    "    self.dma_recv.transfer(self.output_buffer)\n",
    "    return self.output_buffer\n",
    "  \n",
    "  def run_mode(self, mode=1):\n",
    "    # slv_reg1[1:0] : mode\n",
    "    self.top_mmio.write(1*4, mode)\n",
    "\n",
    "    # slv_reg0[2:0] : {next, run, rst_n}\n",
    "    self.top_mmio.write(0*4, 0b101)\n",
    "\n",
    "    # slv_reg0[2:0] : {next, run, rst_n}\n",
    "    self.top_mmio.write(0*4, 0b011)\n",
    "\n",
    "    # slv_reg2[0] : finish\n",
    "    while self.top_mmio.read(2*4) != 1:\n",
    "      sleep(0.001)\n"
   ]
  },
  {
   "cell_type": "markdown",
   "metadata": {},
   "source": [
    "## 関数"
   ]
  },
  {
   "cell_type": "markdown",
   "metadata": {},
   "source": [
    "### 文字列変換用"
   ]
  },
  {
   "cell_type": "code",
   "execution_count": 4,
   "metadata": {},
   "outputs": [],
   "source": [
    "# 使用できる文字のリストを読み込み\n",
    "char_list = []\n",
    "with open('char_list_72.txt' , 'r', encoding='utf-8') as file:\n",
    "  for line in file:\n",
    "    char_list.append(line.replace('\\n', ''))\n",
    "\n",
    "\n",
    "# 文字リストの番号を顔文字中の番号を対応付け\n",
    "def convert_str_int(kmj_data, N=10):\n",
    "  kmj_index = []\n",
    "  for kmj in kmj_data:\n",
    "    kmj = list(kmj)\n",
    "    kmj += ['<PAD>' for _ in range(N - len(kmj))]\n",
    "    temp = []\n",
    "    for c in kmj:\n",
    "      try:\n",
    "        temp.append(char_list.index(c))\n",
    "      except:\n",
    "        temp.append(char_list.index('<UNK>'))\n",
    "    kmj_index.append(temp)\n",
    "  \n",
    "  return kmj_index\n",
    "\n",
    "\n",
    "# 整数列を文字列に変換\n",
    "def convert_int_str(x):\n",
    "  x = np.array(char_list)[x]\n",
    "  x = [c for c in x if c not in ['<PAD>', '<UNK>']]\n",
    "\n",
    "  return ''.join(x)"
   ]
  },
  {
   "cell_type": "markdown",
   "metadata": {},
   "source": [
    "### ミニバッチの作成用"
   ]
  },
  {
   "cell_type": "code",
   "execution_count": 5,
   "metadata": {},
   "outputs": [],
   "source": [
    "# データセットを読み込む関数\n",
    "def read_dataset(filename):\n",
    "  kmj_dataset = []\n",
    "  with open(filename, 'r', encoding='utf-8') as file:\n",
    "    for line in file:\n",
    "      kmj_dataset.append(line.replace('\\n', ''))\n",
    "\n",
    "  return kmj_dataset\n",
    "\n",
    "\n",
    "# データの前処理を行う関数\n",
    "# 顔文字を文字ごとに分解 -> 番号付け -> One-hotベクトル\n",
    "def preprocess(kmj_data):\n",
    "\n",
    "  # 文字リストの番号を顔文字中の番号を対応付け\n",
    "  kmj_index = []\n",
    "  for kmj in kmj_data:\n",
    "    kmj = list(kmj)\n",
    "    kmj += ['<PAD>' for _ in range(N - len(kmj))]\n",
    "    temp = []\n",
    "    for c in kmj:\n",
    "      try:\n",
    "        temp.append(char_list.index(c))\n",
    "      except:\n",
    "        temp.append(char_list.index('<UNK>'))\n",
    "    kmj_index.append(temp)\n",
    "\n",
    "  # 付けた番号をOne-hotベクトル化\n",
    "  kmj_num = len(kmj_index)                        # 顔文字数\n",
    "  char_num = len(char_list)                       # 文字の種類数\n",
    "  kmj_onehot = np.zeros((kmj_num, N, char_num))   # One-hotベクトルリスト\n",
    "  for i, index in enumerate(kmj_index):\n",
    "    mask = range(char_num) == np.array(index).reshape((N, 1))\n",
    "    kmj_onehot[i][mask] = 1\n",
    "  \n",
    "  return kmj_onehot\n",
    "\n",
    "\n",
    "# ミニバッチを作成する関数\n",
    "def create_batch(batch_size):\n",
    "  # データセットの読み込み\n",
    "  kmj_dataset = read_dataset('kaomoji_MAX=10_DA.txt')\n",
    "\n",
    "  # データの前処理\n",
    "  kmj_onehot = preprocess(kmj_dataset)\n",
    "  kmj_int = kmj_onehot.argmax(axis=-1)\n",
    "\n",
    "  # データセットを分割\n",
    "  train_size = int(len(kmj_dataset) * 0.85)\n",
    "  valid_size = int(len(kmj_dataset) * 0.10)\n",
    "  test_size  = len(kmj_dataset) - train_size - valid_size\n",
    "\n",
    "  dataset_train = kmj_int[:train_size]\n",
    "  dataset_valid = kmj_int[train_size:train_size+valid_size]\n",
    "  dataset_test  = kmj_int[train_size+valid_size:]\n",
    "\n",
    "  # ミニバッチに分割\n",
    "  n_train = int(train_size / batch_size)\n",
    "  n_valid = int(valid_size / batch_size)\n",
    "  n_test  = int( test_size / batch_size)\n",
    "\n",
    "  dataloader_train = [dataset_train[i*batch_size:(i+1)*batch_size] for i in range(n_train)]\n",
    "  dataloader_valid = [dataset_valid[i*batch_size:(i+1)*batch_size] for i in range(n_valid)]\n",
    "  dataloader_test  = [ dataset_test[i*batch_size:(i+1)*batch_size] for i in range(n_test )]\n",
    "\n",
    "  return dataloader_train, dataloader_valid, dataloader_test"
   ]
  },
  {
   "cell_type": "markdown",
   "metadata": {},
   "source": [
    "## 動作検証"
   ]
  },
  {
   "cell_type": "code",
   "execution_count": 6,
   "metadata": {},
   "outputs": [],
   "source": [
    "# ミニバッチ作成\n",
    "dataloader_train, dataloader_valid, dataloader_test = create_batch(batch_size)"
   ]
  },
  {
   "cell_type": "markdown",
   "metadata": {},
   "source": [
    "### 学習"
   ]
  },
  {
   "cell_type": "code",
   "execution_count": 48,
   "metadata": {},
   "outputs": [],
   "source": [
    "# PL制御クラスのインスタンス\n",
    "pl = Controller('kmj_gen_v5_3.bit', batch_size, N)"
   ]
  },
  {
   "cell_type": "code",
   "execution_count": 49,
   "metadata": {},
   "outputs": [
    {
     "name": "stdout",
     "output_type": "stream",
     "text": [
      "EPOCH:   1, Train Acc: 0.238, Valid Acc: 0.334, Time:  0.141\n",
      "EPOCH:   2, Train Acc: 0.343, Valid Acc: 0.363, Time:  0.282\n",
      "EPOCH:   3, Train Acc: 0.384, Valid Acc: 0.396, Time:  0.426\n",
      "EPOCH:   4, Train Acc: 0.412, Valid Acc: 0.419, Time:  0.566\n",
      "EPOCH:   5, Train Acc: 0.433, Valid Acc: 0.443, Time:  0.710\n",
      "EPOCH:   6, Train Acc: 0.454, Valid Acc: 0.459, Time:  0.851\n",
      "EPOCH:   7, Train Acc: 0.468, Valid Acc: 0.470, Time:  0.994\n",
      "EPOCH:   8, Train Acc: 0.477, Valid Acc: 0.476, Time:  1.135\n",
      "EPOCH:   9, Train Acc: 0.484, Valid Acc: 0.482, Time:  1.278\n",
      "EPOCH:  10, Train Acc: 0.490, Valid Acc: 0.490, Time:  1.419\n",
      "EPOCH:  11, Train Acc: 0.498, Valid Acc: 0.497, Time:  1.563\n",
      "EPOCH:  12, Train Acc: 0.507, Valid Acc: 0.505, Time:  1.704\n",
      "EPOCH:  13, Train Acc: 0.516, Valid Acc: 0.516, Time:  1.847\n",
      "EPOCH:  14, Train Acc: 0.527, Valid Acc: 0.524, Time:  1.989\n",
      "EPOCH:  15, Train Acc: 0.536, Valid Acc: 0.533, Time:  2.131\n",
      "EPOCH:  16, Train Acc: 0.544, Valid Acc: 0.541, Time:  2.272\n",
      "EPOCH:  17, Train Acc: 0.552, Valid Acc: 0.549, Time:  2.415\n",
      "EPOCH:  18, Train Acc: 0.559, Valid Acc: 0.557, Time:  2.555\n",
      "EPOCH:  19, Train Acc: 0.567, Valid Acc: 0.563, Time:  2.698\n",
      "EPOCH:  20, Train Acc: 0.574, Valid Acc: 0.569, Time:  2.839\n",
      "EPOCH:  21, Train Acc: 0.580, Valid Acc: 0.575, Time:  2.983\n",
      "EPOCH:  22, Train Acc: 0.586, Valid Acc: 0.583, Time:  3.124\n",
      "EPOCH:  23, Train Acc: 0.591, Valid Acc: 0.587, Time:  3.268\n",
      "EPOCH:  24, Train Acc: 0.596, Valid Acc: 0.590, Time:  3.410\n",
      "EPOCH:  25, Train Acc: 0.599, Valid Acc: 0.594, Time:  3.553\n",
      "EPOCH:  26, Train Acc: 0.603, Valid Acc: 0.598, Time:  3.694\n",
      "EPOCH:  27, Train Acc: 0.606, Valid Acc: 0.601, Time:  3.838\n",
      "EPOCH:  28, Train Acc: 0.610, Valid Acc: 0.604, Time:  3.979\n",
      "EPOCH:  29, Train Acc: 0.613, Valid Acc: 0.608, Time:  4.122\n",
      "EPOCH:  30, Train Acc: 0.616, Valid Acc: 0.612, Time:  4.264\n",
      "EPOCH:  31, Train Acc: 0.619, Valid Acc: 0.616, Time:  4.407\n",
      "EPOCH:  32, Train Acc: 0.623, Valid Acc: 0.618, Time:  4.549\n",
      "EPOCH:  33, Train Acc: 0.626, Valid Acc: 0.621, Time:  4.693\n",
      "EPOCH:  34, Train Acc: 0.630, Valid Acc: 0.624, Time:  4.836\n",
      "EPOCH:  35, Train Acc: 0.632, Valid Acc: 0.626, Time:  4.981\n",
      "EPOCH:  36, Train Acc: 0.635, Valid Acc: 0.629, Time:  5.122\n",
      "EPOCH:  37, Train Acc: 0.638, Valid Acc: 0.633, Time:  5.265\n",
      "EPOCH:  38, Train Acc: 0.640, Valid Acc: 0.637, Time:  5.407\n",
      "EPOCH:  39, Train Acc: 0.643, Valid Acc: 0.639, Time:  5.551\n",
      "EPOCH:  40, Train Acc: 0.646, Valid Acc: 0.640, Time:  5.692\n",
      "EPOCH:  41, Train Acc: 0.647, Valid Acc: 0.643, Time:  5.836\n",
      "EPOCH:  42, Train Acc: 0.649, Valid Acc: 0.645, Time:  5.978\n",
      "EPOCH:  43, Train Acc: 0.651, Valid Acc: 0.648, Time:  6.121\n",
      "EPOCH:  44, Train Acc: 0.653, Valid Acc: 0.651, Time:  6.263\n",
      "EPOCH:  45, Train Acc: 0.655, Valid Acc: 0.652, Time:  6.407\n",
      "EPOCH:  46, Train Acc: 0.658, Valid Acc: 0.653, Time:  6.548\n",
      "EPOCH:  47, Train Acc: 0.659, Valid Acc: 0.655, Time:  6.692\n",
      "EPOCH:  48, Train Acc: 0.661, Valid Acc: 0.656, Time:  6.834\n",
      "EPOCH:  49, Train Acc: 0.663, Valid Acc: 0.659, Time:  6.977\n",
      "EPOCH:  50, Train Acc: 0.664, Valid Acc: 0.660, Time:  7.119\n",
      "EPOCH:  51, Train Acc: 0.666, Valid Acc: 0.661, Time:  7.263\n",
      "EPOCH:  52, Train Acc: 0.667, Valid Acc: 0.663, Time:  7.406\n",
      "EPOCH:  53, Train Acc: 0.669, Valid Acc: 0.666, Time:  7.550\n",
      "EPOCH:  54, Train Acc: 0.670, Valid Acc: 0.667, Time:  7.691\n",
      "EPOCH:  55, Train Acc: 0.672, Valid Acc: 0.668, Time:  7.835\n",
      "EPOCH:  56, Train Acc: 0.673, Valid Acc: 0.669, Time:  7.977\n",
      "EPOCH:  57, Train Acc: 0.675, Valid Acc: 0.670, Time:  8.121\n",
      "EPOCH:  58, Train Acc: 0.677, Valid Acc: 0.671, Time:  8.262\n",
      "EPOCH:  59, Train Acc: 0.678, Valid Acc: 0.671, Time:  8.407\n",
      "EPOCH:  60, Train Acc: 0.671, Valid Acc: 0.667, Time:  8.549\n",
      "EPOCH:  61, Train Acc: 0.678, Valid Acc: 0.668, Time:  8.692\n",
      "EPOCH:  62, Train Acc: 0.679, Valid Acc: 0.671, Time:  8.835\n",
      "EPOCH:  63, Train Acc: 0.681, Valid Acc: 0.672, Time:  8.979\n",
      "EPOCH:  64, Train Acc: 0.683, Valid Acc: 0.673, Time:  9.120\n",
      "EPOCH:  65, Train Acc: 0.684, Valid Acc: 0.676, Time:  9.265\n",
      "EPOCH:  66, Train Acc: 0.685, Valid Acc: 0.678, Time:  9.407\n",
      "EPOCH:  67, Train Acc: 0.685, Valid Acc: 0.677, Time:  9.551\n",
      "EPOCH:  68, Train Acc: 0.686, Valid Acc: 0.679, Time:  9.692\n",
      "EPOCH:  69, Train Acc: 0.688, Valid Acc: 0.680, Time:  9.836\n",
      "EPOCH:  70, Train Acc: 0.676, Valid Acc: 0.673, Time:  9.977\n",
      "EPOCH:  71, Train Acc: 0.681, Valid Acc: 0.675, Time: 10.121\n",
      "EPOCH:  72, Train Acc: 0.685, Valid Acc: 0.682, Time: 10.262\n",
      "EPOCH:  73, Train Acc: 0.688, Valid Acc: 0.683, Time: 10.405\n",
      "EPOCH:  74, Train Acc: 0.689, Valid Acc: 0.685, Time: 10.548\n",
      "EPOCH:  75, Train Acc: 0.690, Valid Acc: 0.685, Time: 10.691\n",
      "EPOCH:  76, Train Acc: 0.692, Valid Acc: 0.686, Time: 10.833\n",
      "EPOCH:  77, Train Acc: 0.693, Valid Acc: 0.687, Time: 10.976\n",
      "EPOCH:  78, Train Acc: 0.694, Valid Acc: 0.688, Time: 11.118\n",
      "EPOCH:  79, Train Acc: 0.695, Valid Acc: 0.688, Time: 11.262\n",
      "EPOCH:  80, Train Acc: 0.696, Valid Acc: 0.688, Time: 11.404\n",
      "EPOCH:  81, Train Acc: 0.697, Valid Acc: 0.690, Time: 11.549\n",
      "EPOCH:  82, Train Acc: 0.698, Valid Acc: 0.691, Time: 11.691\n",
      "EPOCH:  83, Train Acc: 0.699, Valid Acc: 0.691, Time: 11.835\n",
      "EPOCH:  84, Train Acc: 0.700, Valid Acc: 0.691, Time: 11.977\n",
      "EPOCH:  85, Train Acc: 0.699, Valid Acc: 0.693, Time: 12.120\n",
      "EPOCH:  86, Train Acc: 0.699, Valid Acc: 0.685, Time: 12.262\n",
      "EPOCH:  87, Train Acc: 0.679, Valid Acc: 0.671, Time: 12.407\n",
      "EPOCH:  88, Train Acc: 0.681, Valid Acc: 0.667, Time: 12.548\n",
      "EPOCH:  89, Train Acc: 0.681, Valid Acc: 0.678, Time: 12.693\n",
      "EPOCH:  90, Train Acc: 0.687, Valid Acc: 0.684, Time: 12.835\n",
      "EPOCH:  91, Train Acc: 0.693, Valid Acc: 0.689, Time: 12.978\n",
      "EPOCH:  92, Train Acc: 0.696, Valid Acc: 0.690, Time: 13.120\n",
      "EPOCH:  93, Train Acc: 0.698, Valid Acc: 0.694, Time: 13.264\n",
      "EPOCH:  94, Train Acc: 0.676, Valid Acc: 0.691, Time: 13.406\n",
      "EPOCH:  95, Train Acc: 0.700, Valid Acc: 0.694, Time: 13.550\n",
      "EPOCH:  96, Train Acc: 0.703, Valid Acc: 0.695, Time: 13.691\n",
      "EPOCH:  97, Train Acc: 0.701, Valid Acc: 0.693, Time: 13.835\n",
      "EPOCH:  98, Train Acc: 0.702, Valid Acc: 0.686, Time: 13.977\n",
      "EPOCH:  99, Train Acc: 0.700, Valid Acc: 0.693, Time: 14.121\n",
      "EPOCH: 100, Train Acc: 0.699, Valid Acc: 0.691, Time: 14.263\n"
     ]
    }
   ],
   "source": [
    "n_epochs = 100\n",
    "learning_time = 0\n",
    "\n",
    "for epoch in range(n_epochs):\n",
    "  acc_train = 0\n",
    "  acc_valid = 0\n",
    "    \n",
    "  start = time()\n",
    "  \n",
    "  # Train\n",
    "  pl.top_mmio.write(1*4, 0)    # slv_reg1[1:0] : mode (TRAIN)\n",
    "\n",
    "  pl.send_data(dataloader_train[0])\n",
    "  pl.top_mmio.write(0*4, 0b101)    # slv_reg0[2:0] : {next, run, rst_n}\n",
    "  pl.top_mmio.write(0*4, 0b011)    # slv_reg0[2:0] : {next, run, rst_n}\n",
    "\n",
    "  for i, batch in enumerate(dataloader_train[1:]):\n",
    "    pl.send_data(batch)\n",
    "    \n",
    "    while pl.top_mmio.read(2*4) != 1: # slv_reg2[0] : finish\n",
    "      sleep(0.001)\n",
    "\n",
    "    pl.top_mmio.write(0*4, 0b101)    # slv_reg0[2:0] : {next, run, rst_n}\n",
    "    pl.top_mmio.write(0*4, 0b011)    # slv_reg0[2:0] : {next, run, rst_n}\n",
    "      \n",
    "    recv_data = pl.recv_data()\n",
    "    acc_train += (recv_data == dataloader_train[i]).sum()\n",
    "  \n",
    "  while pl.top_mmio.read(2*4) != 1: # slv_reg2[0] : finish\n",
    "    sleep(0.001)\n",
    "  \n",
    "  recv_data = pl.recv_data()\n",
    "  acc_train += (recv_data == dataloader_train[-1]).sum()\n",
    "\n",
    "\n",
    "  # Valid\n",
    "  pl.top_mmio.write(1*4, 1)    # slv_reg1[1:0] : mode (FORWARD)\n",
    "\n",
    "  pl.send_data(dataloader_valid[0])\n",
    "  pl.top_mmio.write(0*4, 0b101)    # slv_reg0[2:0] : {next, run, rst_n}\n",
    "  pl.top_mmio.write(0*4, 0b011)    # slv_reg0[2:0] : {next, run, rst_n}\n",
    "\n",
    "  for i, batch in enumerate(dataloader_valid[1:]):\n",
    "    pl.send_data(batch)\n",
    "    \n",
    "    while pl.top_mmio.read(2*4) != 1: # slv_reg2[0] : finish\n",
    "      sleep(0.001)\n",
    "\n",
    "    pl.top_mmio.write(0*4, 0b101)    # slv_reg0[2:0] : {next, run, rst_n}\n",
    "    pl.top_mmio.write(0*4, 0b011)    # slv_reg0[2:0] : {next, run, rst_n}\n",
    "      \n",
    "    recv_data = pl.recv_data()\n",
    "    acc_valid += (recv_data == dataloader_valid[i]).sum()\n",
    "  \n",
    "  while pl.top_mmio.read(2*4) != 1: # slv_reg2[0] : finish\n",
    "    sleep(0.001)\n",
    "  \n",
    "  recv_data = pl.recv_data()\n",
    "  acc_valid += (recv_data == dataloader_valid[-1]).sum()\n",
    "\n",
    "  end = time()\n",
    "  learning_time += end - start\n",
    "\n",
    "  print('EPOCH: {:>3}, Train Acc: {:>.3f}, Valid Acc: {:>.3f}, Time: {:>6.3f}'.format(\n",
    "          epoch+1,\n",
    "          acc_train / (len(dataloader_train) * batch_size * N),\n",
    "          acc_valid / (len(dataloader_valid) * batch_size * N),\n",
    "          learning_time\n",
    "       ))"
   ]
  },
  {
   "cell_type": "markdown",
   "metadata": {},
   "source": [
    "### 検証"
   ]
  },
  {
   "cell_type": "code",
   "execution_count": 101,
   "metadata": {},
   "outputs": [],
   "source": [
    "pl.top_mmio.write(0*4, 0b000)    # slv_reg0[2:0] : {next, run, rst_n}"
   ]
  },
  {
   "cell_type": "code",
   "execution_count": 94,
   "metadata": {},
   "outputs": [
    {
     "name": "stdout",
     "output_type": "stream",
     "text": [
      "base     : ヾ(*　∀́　*)ノ\n"
     ]
    }
   ],
   "source": [
    "kmj_data = ['ヾ(*　∀́　*)ノ']\n",
    "kmj = preprocess(kmj_data).argmax(axis=-1)\n",
    "kmj = np.full((batch_size, N), kmj)\n",
    "print('base     :', convert_int_str(kmj[0]))"
   ]
  },
  {
   "cell_type": "code",
   "execution_count": 116,
   "metadata": {},
   "outputs": [
    {
     "name": "stdout",
     "output_type": "stream",
     "text": [
      "0.0019061565399169922\n"
     ]
    }
   ],
   "source": [
    "# kmj = dataloader_test[0]\n",
    "pl.send_data(kmj)\n",
    "\n",
    "start = time()\n",
    "\n",
    "pl.run_mode(3)\n",
    "\n",
    "end = time()\n",
    "print(end - start)\n",
    "\n",
    "recv_data = pl.recv_data()"
   ]
  },
  {
   "cell_type": "code",
   "execution_count": 117,
   "metadata": {},
   "outputs": [
    {
     "name": "stdout",
     "output_type": "stream",
     "text": [
      "generate : ヾ(;^　)・)\n",
      "generate : ノ(　-・\n",
      "generate : 　　(　̄)\n",
      "generate : 　(́()　!\n",
      "generate : !(((-ω))\n",
      "generate : (_-))　)\n",
      "generate : ヾ)>∀゚́　)ノ\n",
      "generate : (`^_)・\n",
      "generate : (ヾ(-　)\n",
      "generate : (*・　　ω・・\n",
      "generate : (　́ω))\n",
      "generate : )(　∀　̄)\n",
      "generate : /゚ω゚　)・・)\n",
      "generate : (　́　゚　))\n",
      "generate : (▽　))!!\n",
      "generate : !・　　^(!・*\n",
      "generate : ゚()゚　　-・(\n",
      "generate : !.^-゚^ノ)\n",
      "generate : 　゚(̄　)・\n",
      "generate : (゚∀^)\n",
      "generate : ノ(・-*)\n",
      "generate : *-(゚\n",
      "generate : *^(^　^)\n",
      "generate : 　　　́　̄　)　)\n",
      "generate : ヾ(-`)\n",
      "generate : *́(・()(\n",
      "generate : )(　　・̄))ノ\n",
      "generate : (^　^̄　̄)\n",
      "generate : 　^()()・゚\n",
      "generate : *-((・　^)\n",
      "generate : (∀　^))!\n",
      "generate : )ノ-ω　)ノ!!\n"
     ]
    }
   ],
   "source": [
    "for i in range(batch_size):\n",
    "#   print('base     :', convert_int_str(kmj[i]))\n",
    "  print('generate :', convert_int_str(recv_data[i]))"
   ]
  },
  {
   "cell_type": "code",
   "execution_count": null,
   "metadata": {},
   "outputs": [],
   "source": []
  }
 ],
 "metadata": {
  "kernelspec": {
   "display_name": "Python 3 (ipykernel)",
   "language": "python",
   "name": "python3"
  },
  "language_info": {
   "codemirror_mode": {
    "name": "ipython",
    "version": 3
   },
   "file_extension": ".py",
   "mimetype": "text/x-python",
   "name": "python",
   "nbconvert_exporter": "python",
   "pygments_lexer": "ipython3",
   "version": "3.10.4"
  }
 },
 "nbformat": 4,
 "nbformat_minor": 2
}
