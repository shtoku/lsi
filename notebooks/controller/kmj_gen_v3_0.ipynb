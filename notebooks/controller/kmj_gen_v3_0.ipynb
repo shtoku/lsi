{
 "cells": [
  {
   "cell_type": "markdown",
   "metadata": {},
   "source": [
    "# PSからPLを制御するためのプログラム"
   ]
  },
  {
   "cell_type": "markdown",
   "metadata": {},
   "source": [
    "## import"
   ]
  },
  {
   "cell_type": "code",
   "execution_count": 1,
   "metadata": {},
   "outputs": [],
   "source": [
    "import numpy as np\n",
    "from time import sleep\n",
    "from pynq import PL, Overlay, MMIO, allocate"
   ]
  },
  {
   "cell_type": "code",
   "execution_count": 2,
   "metadata": {},
   "outputs": [],
   "source": [
    "N = 10\n",
    "batch_size = 32"
   ]
  },
  {
   "cell_type": "markdown",
   "metadata": {},
   "source": [
    "## PL制御クラス"
   ]
  },
  {
   "cell_type": "code",
   "execution_count": 3,
   "metadata": {},
   "outputs": [],
   "source": [
    "class Controller:\n",
    "  def __init__(self, bitfile, batch_size, N):\n",
    "    PL.reset()\n",
    "\n",
    "    ol = Overlay(bitfile)\n",
    "\n",
    "    dma = ol.axi_dma_0\n",
    "    self.dma_send = dma.sendchannel\n",
    "    self.dma_recv = dma.recvchannel\n",
    "\n",
    "    self.top_mmio = MMIO(ol.ip_dict['top_0']['phys_addr'], ol.ip_dict['top_0']['addr_range'])\n",
    "    # slv_reg0[2:0] : {set, run, rst_n}\n",
    "    self.top_mmio.write(0*4, 0b000)\n",
    "    \n",
    "    self.input_buffer  = allocate(shape=(batch_size, N), dtype=np.uint8)\n",
    "    self.output_buffer = allocate(shape=(N,), dtype=np.uint8)\n",
    "  \n",
    "  def send_data(self, data):\n",
    "    # for i in range(len(self.input_buffer)):\n",
    "    #   self.input_buffer[i] = data[i]\n",
    "    self.input_buffer[:] = data\n",
    "    \n",
    "    self.dma_send.transfer(self.input_buffer)\n",
    "    while not self.dma_send.idle:\n",
    "      sleep(0.001)\n",
    "  \n",
    "  def recv_data(self):\n",
    "    self.dma_recv.transfer(self.output_buffer)\n",
    "    while not self.dma_recv.idle:\n",
    "      sleep(0.001)\n",
    "    return self.output_buffer\n",
    "  \n",
    "  def run_mode(self, mode=1):\n",
    "    # slv_reg1[1:0] : mode\n",
    "    self.top_mmio.write(1*4, mode)\n",
    "\n",
    "    # slv_reg0[3:0] : {next, set, run, rst_n}\n",
    "    self.top_mmio.write(0*4, 0b0101)\n",
    "\n",
    "    # slv_reg0[3:0] : {next, set, run, rst_n}\n",
    "    self.top_mmio.write(0*4, 0b0011)\n",
    "\n",
    "    # slv_reg2[0] : finish\n",
    "    while self.top_mmio.read(2*4) != 1:\n",
    "      sleep(0.001)\n"
   ]
  },
  {
   "cell_type": "markdown",
   "metadata": {},
   "source": [
    "## 関数"
   ]
  },
  {
   "cell_type": "markdown",
   "metadata": {},
   "source": [
    "### 文字列変換用"
   ]
  },
  {
   "cell_type": "code",
   "execution_count": 4,
   "metadata": {},
   "outputs": [],
   "source": [
    "# 使用できる文字のリストを読み込み\n",
    "char_list = []\n",
    "with open('char_list_72.txt' , 'r', encoding='utf-8') as file:\n",
    "  for line in file:\n",
    "    char_list.append(line.replace('\\n', ''))\n",
    "\n",
    "\n",
    "# 文字リストの番号を顔文字中の番号を対応付け\n",
    "def convert_str_int(kmj_data, N=10):\n",
    "  kmj_index = []\n",
    "  for kmj in kmj_data:\n",
    "    kmj = list(kmj)\n",
    "    kmj += ['<PAD>' for _ in range(N - len(kmj))]\n",
    "    temp = []\n",
    "    for c in kmj:\n",
    "      try:\n",
    "        temp.append(char_list.index(c))\n",
    "      except:\n",
    "        temp.append(char_list.index('<UNK>'))\n",
    "    kmj_index.append(temp)\n",
    "  \n",
    "  return kmj_index\n",
    "\n",
    "\n",
    "# 整数列を文字列に変換\n",
    "def convert_int_str(x):\n",
    "  x = np.array(char_list)[x]\n",
    "  x = [c for c in x if c not in ['<PAD>', '<UNK>']]\n",
    "\n",
    "  return ''.join(x)"
   ]
  },
  {
   "cell_type": "markdown",
   "metadata": {},
   "source": [
    "### ミニバッチの作成用"
   ]
  },
  {
   "cell_type": "code",
   "execution_count": 5,
   "metadata": {},
   "outputs": [],
   "source": [
    "# データセットを読み込む関数\n",
    "def read_dataset(filename):\n",
    "  kmj_dataset = []\n",
    "  with open(filename, 'r', encoding='utf-8') as file:\n",
    "    for line in file:\n",
    "      kmj_dataset.append(line.replace('\\n', ''))\n",
    "\n",
    "  return kmj_dataset\n",
    "\n",
    "\n",
    "# データの前処理を行う関数\n",
    "# 顔文字を文字ごとに分解 -> 番号付け -> One-hotベクトル\n",
    "def preprocess(kmj_data):\n",
    "\n",
    "  # 文字リストの番号を顔文字中の番号を対応付け\n",
    "  kmj_index = []\n",
    "  for kmj in kmj_data:\n",
    "    kmj = list(kmj)\n",
    "    kmj += ['<PAD>' for _ in range(N - len(kmj))]\n",
    "    temp = []\n",
    "    for c in kmj:\n",
    "      try:\n",
    "        temp.append(char_list.index(c))\n",
    "      except:\n",
    "        temp.append(char_list.index('<UNK>'))\n",
    "    kmj_index.append(temp)\n",
    "\n",
    "  # 付けた番号をOne-hotベクトル化\n",
    "  kmj_num = len(kmj_index)                        # 顔文字数\n",
    "  char_num = len(char_list)                       # 文字の種類数\n",
    "  kmj_onehot = np.zeros((kmj_num, N, char_num))   # One-hotベクトルリスト\n",
    "  for i, index in enumerate(kmj_index):\n",
    "    mask = range(char_num) == np.array(index).reshape((N, 1))\n",
    "    kmj_onehot[i][mask] = 1\n",
    "  \n",
    "  return kmj_onehot\n",
    "\n",
    "\n",
    "# ミニバッチを作成する関数\n",
    "def create_batch(batch_size):\n",
    "  # データセットの読み込み\n",
    "  kmj_dataset = read_dataset('kaomoji_MAX=10_DA.txt')\n",
    "\n",
    "  # データの前処理\n",
    "  kmj_onehot = preprocess(kmj_dataset)\n",
    "  kmj_int = kmj_onehot.argmax(axis=-1)\n",
    "\n",
    "  # データセットを分割\n",
    "  train_size = int(len(kmj_dataset) * 0.85)\n",
    "  valid_size = int(len(kmj_dataset) * 0.10)\n",
    "  test_size  = len(kmj_dataset) - train_size - valid_size\n",
    "\n",
    "  dataset_train = kmj_int[:train_size]\n",
    "  dataset_valid = kmj_int[train_size:train_size+valid_size]\n",
    "  dataset_test  = kmj_int[train_size+valid_size:]\n",
    "\n",
    "  # ミニバッチに分割\n",
    "  n_train = int(train_size / batch_size)\n",
    "  n_valid = int(valid_size / batch_size)\n",
    "\n",
    "  dataloader_train = [dataset_train[i*batch_size:(i+1)*batch_size] for i in range(n_train)]\n",
    "  dataloader_valid = [dataset_valid[i*batch_size:(i+1)*batch_size] for i in range(n_valid)]\n",
    "\n",
    "  return dataloader_train, dataloader_valid, dataset_test"
   ]
  },
  {
   "cell_type": "markdown",
   "metadata": {},
   "source": [
    "## 動作検証"
   ]
  },
  {
   "cell_type": "code",
   "execution_count": 22,
   "metadata": {},
   "outputs": [],
   "source": [
    "# ミニバッチ作成\n",
    "dataloader_train, dataloader_valid, dataset_test = create_batch(batch_size)"
   ]
  },
  {
   "cell_type": "markdown",
   "metadata": {},
   "source": [
    "### 学習"
   ]
  },
  {
   "cell_type": "code",
   "execution_count": 151,
   "metadata": {},
   "outputs": [],
   "source": [
    "# PL制御クラスのインスタンス\n",
    "pl = Controller('kmj_gen_v3_0.bit', batch_size, N)"
   ]
  },
  {
   "cell_type": "code",
   "execution_count": 152,
   "metadata": {},
   "outputs": [
    {
     "name": "stdout",
     "output_type": "stream",
     "text": [
      "EPOCH:   1, Train Acc: 0.238\n",
      "EPOCH:   2, Train Acc: 0.343\n",
      "EPOCH:   3, Train Acc: 0.384\n",
      "EPOCH:   4, Train Acc: 0.412\n",
      "EPOCH:   5, Train Acc: 0.433\n",
      "EPOCH:   6, Train Acc: 0.454\n",
      "EPOCH:   7, Train Acc: 0.468\n",
      "EPOCH:   8, Train Acc: 0.477\n",
      "EPOCH:   9, Train Acc: 0.484\n",
      "EPOCH:  10, Train Acc: 0.490\n",
      "EPOCH:  11, Train Acc: 0.498\n",
      "EPOCH:  12, Train Acc: 0.507\n",
      "EPOCH:  13, Train Acc: 0.516\n",
      "EPOCH:  14, Train Acc: 0.527\n",
      "EPOCH:  15, Train Acc: 0.536\n",
      "EPOCH:  16, Train Acc: 0.544\n",
      "EPOCH:  17, Train Acc: 0.552\n",
      "EPOCH:  18, Train Acc: 0.559\n",
      "EPOCH:  19, Train Acc: 0.567\n",
      "EPOCH:  20, Train Acc: 0.574\n",
      "EPOCH:  21, Train Acc: 0.580\n",
      "EPOCH:  22, Train Acc: 0.586\n",
      "EPOCH:  23, Train Acc: 0.591\n",
      "EPOCH:  24, Train Acc: 0.596\n",
      "EPOCH:  25, Train Acc: 0.599\n",
      "EPOCH:  26, Train Acc: 0.603\n",
      "EPOCH:  27, Train Acc: 0.606\n",
      "EPOCH:  28, Train Acc: 0.610\n",
      "EPOCH:  29, Train Acc: 0.613\n",
      "EPOCH:  30, Train Acc: 0.616\n",
      "EPOCH:  31, Train Acc: 0.619\n",
      "EPOCH:  32, Train Acc: 0.623\n",
      "EPOCH:  33, Train Acc: 0.626\n",
      "EPOCH:  34, Train Acc: 0.630\n",
      "EPOCH:  35, Train Acc: 0.632\n",
      "EPOCH:  36, Train Acc: 0.635\n",
      "EPOCH:  37, Train Acc: 0.638\n",
      "EPOCH:  38, Train Acc: 0.640\n",
      "EPOCH:  39, Train Acc: 0.643\n",
      "EPOCH:  40, Train Acc: 0.646\n",
      "EPOCH:  41, Train Acc: 0.647\n",
      "EPOCH:  42, Train Acc: 0.649\n",
      "EPOCH:  43, Train Acc: 0.651\n",
      "EPOCH:  44, Train Acc: 0.653\n",
      "EPOCH:  45, Train Acc: 0.655\n",
      "EPOCH:  46, Train Acc: 0.658\n",
      "EPOCH:  47, Train Acc: 0.659\n",
      "EPOCH:  48, Train Acc: 0.661\n",
      "EPOCH:  49, Train Acc: 0.663\n",
      "EPOCH:  50, Train Acc: 0.664\n"
     ]
    }
   ],
   "source": [
    "n_epochs = 50\n",
    "\n",
    "# slv_reg1[1:0] : mode (TRAIN)\n",
    "pl.top_mmio.write(1*4, 0)\n",
    "\n",
    "# slv_reg0[3:0] : {next, set, run, rst_n}\n",
    "pl.top_mmio.write(0*4, 0b0101)\n",
    "\n",
    "for epoch in range(n_epochs):\n",
    "  acc_train = 0\n",
    "  # acc_valid = 0\n",
    "\n",
    "  for batch in dataloader_train:\n",
    "    pl.send_data(batch)\n",
    "\n",
    "    pl.top_mmio.write(0*4, 0b1001)    # slv_reg0[3:0] : {next, set, run, rst_n}\n",
    "    pl.top_mmio.write(0*4, 0b0011)    # slv_reg0[3:0] : {next, set, run, rst_n}\n",
    "    \n",
    "    while pl.top_mmio.read(2*4) != 1: # slv_reg2[0] : finish\n",
    "      sleep(0.001)\n",
    "      \n",
    "    for i in range(len(batch)):\n",
    "      recv_data = pl.recv_data()\n",
    "      acc_train += (recv_data == batch[i]).sum()\n",
    "\n",
    "  print('EPOCH: {:>3}, Train Acc: {:>.3f}'.format(epoch+1, acc_train / (len(dataloader_train) * batch_size * N)))"
   ]
  },
  {
   "cell_type": "markdown",
   "metadata": {},
   "source": [
    "### 検証"
   ]
  },
  {
   "cell_type": "code",
   "execution_count": 161,
   "metadata": {},
   "outputs": [],
   "source": [
    "# kmj_data = ['ヾ(*　∀́　*)ノ']\n",
    "kmj_data = ['(^_^--)']\n",
    "kmj_index = convert_str_int(kmj_data)\n",
    "\n",
    "test_input = allocate(shape=(N,), dtype=np.uint8)\n",
    "test_input[:] = kmj_index[0]"
   ]
  },
  {
   "cell_type": "code",
   "execution_count": 162,
   "metadata": {},
   "outputs": [],
   "source": [
    "pl.dma_send.transfer(test_input)"
   ]
  },
  {
   "cell_type": "code",
   "execution_count": 163,
   "metadata": {},
   "outputs": [],
   "source": [
    "# slv_reg0[3:0] : {next, set, run, rst_n}\n",
    "pl.top_mmio.write(0*4, 0b0000)\n",
    "pl.run_mode(1)"
   ]
  },
  {
   "cell_type": "code",
   "execution_count": 164,
   "metadata": {},
   "outputs": [
    {
     "name": "stdout",
     "output_type": "stream",
     "text": [
      "ヾ(*　∀́　*)ノ\n",
      "ヾ(*　∀́　*)ノ\n"
     ]
    }
   ],
   "source": [
    "test_output = pl.recv_data()\n",
    "# test_output = allocate(shape=(N,), dtype=np.uint8)\n",
    "# pl.dma_recv.transfer(test_output)\n",
    "print(kmj_data[0])\n",
    "print(convert_int_str(test_output))"
   ]
  },
  {
   "cell_type": "code",
   "execution_count": null,
   "metadata": {},
   "outputs": [],
   "source": []
  }
 ],
 "metadata": {
  "kernelspec": {
   "display_name": "Python 3 (ipykernel)",
   "language": "python",
   "name": "python3"
  },
  "language_info": {
   "codemirror_mode": {
    "name": "ipython",
    "version": 3
   },
   "file_extension": ".py",
   "mimetype": "text/x-python",
   "name": "python",
   "nbconvert_exporter": "python",
   "pygments_lexer": "ipython3",
   "version": "3.10.4"
  }
 },
 "nbformat": 4,
 "nbformat_minor": 2
}
